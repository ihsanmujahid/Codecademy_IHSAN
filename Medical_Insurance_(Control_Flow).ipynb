{
  "nbformat": 4,
  "nbformat_minor": 0,
  "metadata": {
    "colab": {
      "provenance": [],
      "authorship_tag": "ABX9TyP3ibzgegPttghtNTVrSyLV",
      "include_colab_link": true
    },
    "kernelspec": {
      "name": "python3",
      "display_name": "Python 3"
    },
    "language_info": {
      "name": "python"
    }
  },
  "cells": [
    {
      "cell_type": "markdown",
      "metadata": {
        "id": "view-in-github",
        "colab_type": "text"
      },
      "source": [
        "<a href=\"https://colab.research.google.com/github/ihsanmujahid/Codecademy_IHSAN/blob/Medical-Insurance/Medical_Insurance_(Control_Flow).ipynb\" target=\"_parent\"><img src=\"https://colab.research.google.com/assets/colab-badge.svg\" alt=\"Open In Colab\"/></a>"
      ]
    },
    {
      "cell_type": "code",
      "execution_count": 1,
      "metadata": {
        "colab": {
          "base_uri": "https://localhost:8080/"
        },
        "id": "B1UDxP9VBTRD",
        "outputId": "b3a7bef7-e4e7-4e63-aedf-5547dca2a1bc"
      },
      "outputs": [
        {
          "output_type": "stream",
          "name": "stdout",
          "text": [
            "Keanu's Estimated Insurance Cost: 20247 dollars.\n",
            "To lower your cost, you should consider quitting smoking.\n",
            "Ihsan's Estimated Insurance Cost: 16572 dollars.\n",
            "To lower your cost, you should consider quitting smoking.\n"
          ]
        }
      ],
      "source": [
        "# Add your code here\n",
        "def analyze_smoker(smoker_status):\n",
        "  if smoker_status == 1:\n",
        "    print(\"To lower your cost, you should consider quitting smoking.\")\n",
        "  else:\n",
        "    print(\"Smoking is not an issue for you.\")\n",
        "# Function to estimate insurance cost:\n",
        "def estimate_insurance_cost(name, age, sex, num_of_children, smoker):\n",
        "  estimated_cost = 400*age - 128*sex + 425*num_of_children + 10000*smoker - 2500\n",
        "  print(name + \"'s Estimated Insurance Cost: \" + str(estimated_cost) + \" dollars.\")\n",
        "  analyze_smoker(smoker)\n",
        "  return estimated_cost\n",
        " \n",
        "# Estimate Keanu's insurance cost\n",
        "keanu_insurance_cost = estimate_insurance_cost(name = 'Keanu', age = 29, sex = 1, num_of_children = 3, smoker = 1)\n",
        "\n",
        "#estimate your own insurance cost\n",
        "ihsan_insurance_cost = estimate_insurance_cost(name = \"Ihsan\", age = 23, sex = 1, num_of_children = 0, smoker = 1)"
      ]
    }
  ]
}