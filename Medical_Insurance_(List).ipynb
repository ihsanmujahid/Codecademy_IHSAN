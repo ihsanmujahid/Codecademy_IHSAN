{
  "nbformat": 4,
  "nbformat_minor": 0,
  "metadata": {
    "colab": {
      "provenance": [],
      "authorship_tag": "ABX9TyMVAMYORPMmFwguCuRwl1MY",
      "include_colab_link": true
    },
    "kernelspec": {
      "name": "python3",
      "display_name": "Python 3"
    },
    "language_info": {
      "name": "python"
    }
  },
  "cells": [
    {
      "cell_type": "markdown",
      "metadata": {
        "id": "view-in-github",
        "colab_type": "text"
      },
      "source": [
        "<a href=\"https://colab.research.google.com/github/ihsanmujahid/Codecademy_IHSAN/blob/Medical-Insurance/Medical_Insurance_(List).ipynb\" target=\"_parent\"><img src=\"https://colab.research.google.com/assets/colab-badge.svg\" alt=\"Open In Colab\"/></a>"
      ]
    },
    {
      "cell_type": "code",
      "source": [
        "names = [\"Mohamed\", \"Sara\", \"Xia\", \"Paul\", \"Valentina\", \"Jide\", \"Aaron\", \"Emily\", \"Nikita\", \"Paul\"]\n",
        "insurance_costs = [13262.0, 4816.0, 6839.0, 5054.0, 14724.0, 5360.0, 7640.0, 6072.0, 2750.0, 12064.0]\n",
        "\n",
        "# Add a new name and corresponding insurance cost to the existing lists\n",
        "names.append(\"Priscilla\")\n",
        "insurance_costs.append(8320.0)\n",
        "\n",
        "# Create a list of medical records by combining the names and insurance costs using the zip() function\n",
        "medical_records = list(zip(names, insurance_costs))\n",
        "print(medical_records)\n",
        "\n",
        "# Calculate the number of medical records\n",
        "num_medical_records = len(medical_records)\n",
        "print(\"There are \" + str(num_medical_records) + \" medical records.\")\n",
        "\n",
        "# Retrieve the first medical record from the list\n",
        "first_medical_record = medical_records[0]\n",
        "print(\"Here is the first medical record: \" + str(first_medical_record))\n",
        "\n",
        "# Sort the medical records based on insurance cost in ascending order\n",
        "medical_records.sort()\n",
        "print(\"Here are the medical records sorted by insurance cost: \" + str(medical_records))\n",
        "\n",
        "# Retrieve the three medical records with the cheapest insurance costs\n",
        "cheapest_three = medical_records[:3]\n",
        "print(\"Here are the three cheapest insurance costs in our medical records: \" + str(cheapest_three))\n",
        "\n",
        "# Retrieve the three medical records with the priciest insurance costs\n",
        "priciest_three = medical_records[-3:]\n",
        "print(\"Here are the three most expensive insurance costs in our medical records: \" + str(priciest_three))\n",
        "\n",
        "# Count the occurrences of the name \"Paul\" in the list of names\n",
        "occurrences_paul = names.count(\"Paul\")\n",
        "print(\"There are \" + str(occurrences_paul) + \" individuals with the name Paul in our medical records.\")\n"
      ],
      "metadata": {
        "colab": {
          "base_uri": "https://localhost:8080/"
        },
        "id": "xsDGMqXrPlLG",
        "outputId": "31abab7a-fde8-47af-fd9a-5751ab16d328"
      },
      "execution_count": 1,
      "outputs": [
        {
          "output_type": "stream",
          "name": "stdout",
          "text": [
            "[('Mohamed', 13262.0), ('Sara', 4816.0), ('Xia', 6839.0), ('Paul', 5054.0), ('Valentina', 14724.0), ('Jide', 5360.0), ('Aaron', 7640.0), ('Emily', 6072.0), ('Nikita', 2750.0), ('Paul', 12064.0), ('Priscilla', 8320.0)]\n",
            "There are 11 medical records.\n",
            "Here is the first medical record: ('Mohamed', 13262.0)\n",
            "Here are the medical records sorted by insurance cost: [('Aaron', 7640.0), ('Emily', 6072.0), ('Jide', 5360.0), ('Mohamed', 13262.0), ('Nikita', 2750.0), ('Paul', 5054.0), ('Paul', 12064.0), ('Priscilla', 8320.0), ('Sara', 4816.0), ('Valentina', 14724.0), ('Xia', 6839.0)]\n",
            "Here are the three cheapest insurance costs in our medical records: [('Aaron', 7640.0), ('Emily', 6072.0), ('Jide', 5360.0)]\n",
            "Here are the three most expensive insurance costs in our medical records: [('Sara', 4816.0), ('Valentina', 14724.0), ('Xia', 6839.0)]\n",
            "There are 2 individuals with the name Paul in our medical records.\n"
          ]
        }
      ]
    }
  ]
}