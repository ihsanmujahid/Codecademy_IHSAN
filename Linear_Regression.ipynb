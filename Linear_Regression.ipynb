{
  "nbformat": 4,
  "nbformat_minor": 0,
  "metadata": {
    "colab": {
      "provenance": [],
      "authorship_tag": "ABX9TyObUTFz5xl+MTt0csppM+p7",
      "include_colab_link": true
    },
    "kernelspec": {
      "name": "python3",
      "display_name": "Python 3"
    },
    "language_info": {
      "name": "python"
    }
  },
  "cells": [
    {
      "cell_type": "markdown",
      "metadata": {
        "id": "view-in-github",
        "colab_type": "text"
      },
      "source": [
        "<a href=\"https://colab.research.google.com/github/ihsanmujahid/Codecademy_IHSAN/blob/main/Linear_Regression.ipynb\" target=\"_parent\"><img src=\"https://colab.research.google.com/assets/colab-badge.svg\" alt=\"Open In Colab\"/></a>"
      ]
    },
    {
      "cell_type": "code",
      "execution_count": 1,
      "metadata": {
        "colab": {
          "base_uri": "https://localhost:8080/"
        },
        "id": "lz7SN_raP_oq",
        "outputId": "4c173444-6f8d-4ad1-e9af-863ddc7f0725"
      },
      "outputs": [
        {
          "output_type": "stream",
          "name": "stdout",
          "text": [
            "True\n",
            "True\n",
            "0\n",
            "1\n",
            "1\n",
            "5\n",
            "0\n",
            "4\n",
            "4\n",
            "18\n",
            "Best m: 0.4\n",
            "Best b: 1.6\n",
            "Smallest error: 5.0\n",
            "Predicted bounce height: 4.0\n"
          ]
        }
      ],
      "source": [
        "# Task 1\n",
        "def get_y(m, b, x):\n",
        "    return m * x + b\n",
        "\n",
        "# Uncomment each print() statement to check your work. Each of the following should print True\n",
        "print(get_y(1, 0, 7) == 7)\n",
        "print(get_y(5, 10, 3) == 25)\n",
        "\n",
        "\n",
        "# Tasks 2 and 3\n",
        "def calculate_error(m, b, point):\n",
        "    x_point, y_point = point\n",
        "    y_line = get_y(m, b, x_point)\n",
        "    distance = abs(y_line - y_point)\n",
        "    return distance\n",
        "\n",
        "# Task 4\n",
        "# Uncomment each print() statement and check the output against the expected result\n",
        "\n",
        "# this is a line that looks like y = x, so (3, 3) should lie on it. thus, error should be 0:\n",
        "print(calculate_error(1, 0, (3, 3)))\n",
        "\n",
        "# the point (3, 4) should be 1 unit away from the line y = x:\n",
        "print(calculate_error(1, 0, (3, 4)))\n",
        "\n",
        "# the point (3, 3) should be 1 unit away from the line y = x - 1:\n",
        "print(calculate_error(1, -1, (3, 3)))\n",
        "\n",
        "# the point (3, 3) should be 5 units away from the line y = -x + 1:\n",
        "print(calculate_error(-1, 1, (3, 3)))\n",
        "\n",
        "\n",
        "# Task 5\n",
        "def calculate_all_error(m, b, points):\n",
        "    total_error = 0\n",
        "    for point in points:\n",
        "        error = calculate_error(m, b, point)\n",
        "        total_error += error\n",
        "    return total_error\n",
        "\n",
        "\n",
        "# Task 6\n",
        "# Uncomment each print() statement and check the output against the expected result\n",
        "datapoints = [(1, 1), (3, 3), (5, 5), (-1, -1)]\n",
        "\n",
        "# every point in this dataset lies upon y=x, so the total error should be zero:\n",
        "print(calculate_all_error(1, 0, datapoints))\n",
        "\n",
        "# every point in this dataset is 1 unit away from y = x + 1, so the total error should be 4:\n",
        "print(calculate_all_error(1, 1, datapoints))\n",
        "\n",
        "# every point in this dataset is 1 unit away from y = x - 1, so the total error should be 4:\n",
        "print(calculate_all_error(1, -1, datapoints))\n",
        "\n",
        "# the points in this dataset are 1, 5, 9, and 3 units away from y = -x + 1, respectively, so total error should be\n",
        "# 1 + 5 + 9 + 3 = 18\n",
        "print(calculate_all_error(-1, 1, datapoints))\n",
        "\n",
        "\n",
        "# Tasks 8 and 9\n",
        "possible_ms = [m / 10 for m in range(-100, 101)]\n",
        "possible_bs = [b / 10 for b in range(-200, 201)]\n",
        "\n",
        "\n",
        "# Task 10\n",
        "datapoints = [(1, 2), (2, 0), (3, 4), (4, 4), (5, 3)]\n",
        "\n",
        "\n",
        "# Tasks 11 and 12\n",
        "smallest_error = float(\"inf\")\n",
        "best_m = 0\n",
        "best_b = 0\n",
        "\n",
        "for m in possible_ms:\n",
        "    for b in possible_bs:\n",
        "        error = calculate_all_error(m, b, datapoints)\n",
        "        if error < smallest_error:\n",
        "            smallest_error = error\n",
        "            best_m = m\n",
        "            best_b = b\n",
        "\n",
        "print(\"Best m:\", best_m)\n",
        "print(\"Best b:\", best_b)\n",
        "print(\"Smallest error:\", smallest_error)\n",
        "\n",
        "\n",
        "# Task 13\n",
        "m = 0.4\n",
        "b = 1.6\n",
        "x = 6\n",
        "predicted_bounce_height = get_y(m, b, x)\n",
        "print(\"Predicted bounce height:\", predicted_bounce_height)\n"
      ]
    }
  ]
}