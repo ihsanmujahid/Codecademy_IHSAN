{
  "nbformat": 4,
  "nbformat_minor": 0,
  "metadata": {
    "colab": {
      "provenance": [],
      "authorship_tag": "ABX9TyPKPWOs+o0NjCYco1RcpbgJ",
      "include_colab_link": true
    },
    "kernelspec": {
      "name": "python3",
      "display_name": "Python 3"
    },
    "language_info": {
      "name": "python"
    }
  },
  "cells": [
    {
      "cell_type": "markdown",
      "metadata": {
        "id": "view-in-github",
        "colab_type": "text"
      },
      "source": [
        "<a href=\"https://colab.research.google.com/github/ihsanmujahid/Codecademy_IHSAN/blob/Medical-Insurance/Medical_Insurance_(Functions).ipynb\" target=\"_parent\"><img src=\"https://colab.research.google.com/assets/colab-badge.svg\" alt=\"Open In Colab\"/></a>"
      ]
    },
    {
      "cell_type": "code",
      "execution_count": 1,
      "metadata": {
        "colab": {
          "base_uri": "https://localhost:8080/"
        },
        "id": "QTe2ihAYGU0o",
        "outputId": "a353e292-66f2-492e-890c-ffc4a40e2382"
      },
      "outputs": [
        {
          "output_type": "stream",
          "name": "stdout",
          "text": [
            "The estimated insurance cost for maria is 5469.0 dollars.\n",
            "The estimated insurance cost for Omar is 28336.0 dollars.\n",
            "The estimated insurance cost for Ihsan is 25891.0 dollars.\n",
            "The insurance cost difference between Ihsan And Maria is 20422.0\n"
          ]
        },
        {
          "output_type": "execute_result",
          "data": {
            "text/plain": [
              "20422.0"
            ]
          },
          "metadata": {},
          "execution_count": 1
        }
      ],
      "source": [
        "# Create calculate_insurance_cost() function below:\n",
        "def calculate_insurance_cost(name, age, sex, bmi, num_of_children, smoker):\n",
        "    estimated_cost = 250*age - 128*sex + 370*bmi + 425*num_of_children  +  24000*smoker - 12500\n",
        "    print(\"The estimated insurance cost for \" + name + \" is \" + str(estimated_cost) + \" dollars.\")\n",
        "    return estimated_cost\n",
        "\n",
        "# Estimate Maria's insurance cost\n",
        "maria_insurance_cost = calculate_insurance_cost(name = 'maria', age = 28, sex= 0, bmi = 26.2, num_of_children = 3, smoker = 0)\n",
        "# Estimate Omar's insurance cost \n",
        "omar_insurance_cost = calculate_insurance_cost(name = \"Omar\",age = 35, sex = 1, bmi = 22.2, num_of_children = 0, smoker = 1)\n",
        "\n",
        "ihsan_insurance_cost = calculate_insurance_cost(name = \"Ihsan\", age = 23, sex = 1, bmi = 23.7, num_of_children = 0, smoker = 1)\n",
        "\n",
        "def diff_insurance_cost(nameA, insA, nameB,insB):\n",
        "  insurance_diff = insA-insB\n",
        "  print(\"The insurance cost difference between \" + nameA + \" And \" + nameB + \" is \" + str(insurance_diff))\n",
        "  return insurance_diff\n",
        "\n",
        "diff_insurance_cost(\"Ihsan\",ihsan_insurance_cost, \"Maria\",maria_insurance_cost)"
      ]
    }
  ]
}