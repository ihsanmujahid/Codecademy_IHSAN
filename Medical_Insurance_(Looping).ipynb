{
  "nbformat": 4,
  "nbformat_minor": 0,
  "metadata": {
    "colab": {
      "provenance": [],
      "authorship_tag": "ABX9TyM+AKSGXHoUzM/lMP3JcXZd",
      "include_colab_link": true
    },
    "kernelspec": {
      "name": "python3",
      "display_name": "Python 3"
    },
    "language_info": {
      "name": "python"
    }
  },
  "cells": [
    {
      "cell_type": "markdown",
      "metadata": {
        "id": "view-in-github",
        "colab_type": "text"
      },
      "source": [
        "<a href=\"https://colab.research.google.com/github/ihsanmujahid/Codecademy_IHSAN/blob/Medical-Insurance/Medical_Insurance_(Looping).ipynb\" target=\"_parent\"><img src=\"https://colab.research.google.com/assets/colab-badge.svg\" alt=\"Open In Colab\"/></a>"
      ]
    },
    {
      "cell_type": "code",
      "execution_count": 1,
      "metadata": {
        "colab": {
          "base_uri": "https://localhost:8080/"
        },
        "id": "FsVrnq8M93xe",
        "outputId": "c6c7e53b-1a89-48ee-c13b-c29ef743354c"
      },
      "outputs": [
        {
          "output_type": "stream",
          "name": "stdout",
          "text": [
            "Average Insurance Costs: 4400.0 dollars.\n",
            "The insurance cost for Judith is 1100.0 dollars\n",
            "The insurance cost for Judith is below average.\n",
            "The insurance cost for Abel is 2200.0 dollars\n",
            "The insurance cost for Abel is below average.\n",
            "The insurance cost for Tyson is 3300.0 dollars\n",
            "The insurance cost for Tyson is below average.\n",
            "The insurance cost for Martha is 4400.0 dollars\n",
            "The insurance cost for Martha is equal to the average.\n",
            "The insurance cost for Beverley is 5500.0 dollars\n",
            "The insurance cost for Beverley is above average.\n",
            "The insurance cost for David is 6600.0 dollars\n",
            "The insurance cost for David is above average.\n",
            "The insurance cost for Anabel is 7700.0 dollars\n",
            "The insurance cost for Anabel is above average.\n",
            "[1100.0, 2200.0, 3300.0, 4400.0, 5500.0, 6600.0, 7700.0]\n"
          ]
        }
      ],
      "source": [
        "names = [\"Judith\", \"Abel\", \"Tyson\", \"Martha\", \"Beverley\", \"David\", \"Anabel\"]\n",
        "estimated_insurance_costs = [1000.0, 2000.0, 3000.0, 4000.0, 5000.0, 6000.0, 7000.0]\n",
        "actual_insurance_costs = [1100.0, 2200.0, 3300.0, 4400.0, 5500.0, 6600.0, 7700.0]\n",
        "\n",
        "# Add your code here\n",
        "total_cost = 0\n",
        "for insurance_cost in actual_insurance_costs:\n",
        "  total_cost += insurance_cost\n",
        "average_cost = total_cost/len(actual_insurance_costs)\n",
        "print(\"Average Insurance Costs: \" + str(average_cost) + \" dollars.\")\n",
        "\n",
        "for i in range(len(names)):\n",
        "  name = names[i]\n",
        "  insurance_cost = actual_insurance_costs[i]\n",
        "  print(\"The insurance cost for \" + name + \" is \" + str(insurance_cost) + \" dollars\")\n",
        "  if insurance_cost > average_cost:\n",
        "    print(\"The insurance cost for \" + name + \" is above average.\")\n",
        "  elif insurance_cost < average_cost:\n",
        "    print(\"The insurance cost for \" + name + \" is below average.\")\n",
        "  else:\n",
        "    print(\"The insurance cost for \" + name + \" is equal to the average.\")\n",
        "\n",
        "updated_estimated_costs = [estimated_cost * 11/10 for estimated_cost in estimated_insurance_costs]\n",
        "print(updated_estimated_costs)\n"
      ]
    }
  ]
}