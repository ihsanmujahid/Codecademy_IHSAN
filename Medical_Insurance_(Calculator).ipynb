{
  "nbformat": 4,
  "nbformat_minor": 0,
  "metadata": {
    "colab": {
      "provenance": [],
      "authorship_tag": "ABX9TyMynveY3FTbJ3esnzBD2hgI",
      "include_colab_link": true
    },
    "kernelspec": {
      "name": "python3",
      "display_name": "Python 3"
    },
    "language_info": {
      "name": "python"
    }
  },
  "cells": [
    {
      "cell_type": "markdown",
      "metadata": {
        "id": "view-in-github",
        "colab_type": "text"
      },
      "source": [
        "<a href=\"https://colab.research.google.com/github/ihsanmujahid/Codecademy_IHSAN/blob/Medical-Insurance/Medical_Insurance_(Calculator).ipynb\" target=\"_parent\"><img src=\"https://colab.research.google.com/assets/colab-badge.svg\" alt=\"Open In Colab\"/></a>"
      ]
    },
    {
      "cell_type": "code",
      "source": [
        "def analyze_smoker(smoker_status):\n",
        "    # Function to analyze smoker status and provide advice\n",
        "    if smoker_status == 1:\n",
        "        print(\"To lower your cost, you should consider quitting smoking.\")\n",
        "    else:\n",
        "        print(\"Smoking is not an issue for you.\")\n",
        "\n",
        "def calculate_insurance_cost(name, age, sex, num_of_children, smoker):\n",
        "    # Function to calculate insurance cost based on input parameters\n",
        "    estimated_cost = 250 * age - 128 * sex + 425 * num_of_children + 24000 * smoker - 12500\n",
        "    print(\"The estimated insurance cost for \" + name + \" is \" + str(estimated_cost) + \" dollars.\")\n",
        "    return estimated_cost\n",
        "\n",
        "def insurance_calculator():\n",
        "    # Main function to run the insurance calculator\n",
        "    while True:\n",
        "        # Gather user input\n",
        "        name = input(\"Enter your name: \")\n",
        "        age = int(input(\"Enter your age: \"))\n",
        "        sex = int(input(\"Enter your sex (0 for female, 1 for male): \"))\n",
        "        num_of_children = int(input(\"Enter the number of children you have: \"))\n",
        "        smoker = int(input(\"Are you a smoker? (0 for no, 1 for yes): \"))\n",
        "\n",
        "        # Calculate insurance cost and provide analysis\n",
        "        insurance_cost = calculate_insurance_cost(name, age, sex, num_of_children, smoker)\n",
        "        analyze_smoker(smoker)\n",
        "\n",
        "        # Ask if the user wants to calculate insurance for another person or exit\n",
        "        choice = input(\"Do you want to calculate insurance for another person? (yes/no or cancel to exit): \")\n",
        "        if choice.lower() == \"cancel\":\n",
        "            print(\"Insurance calculator canceled.\")\n",
        "            break\n",
        "        elif choice.lower() != \"yes\":\n",
        "            print(\"Thank you for using the insurance calculator!\")\n",
        "            break\n",
        "\n",
        "insurance_calculator()"
      ],
      "metadata": {
        "colab": {
          "base_uri": "https://localhost:8080/"
        },
        "id": "v8N1Kd2BOwJm",
        "outputId": "4357863e-c505-4981-e60d-c80226eb6807"
      },
      "execution_count": 1,
      "outputs": [
        {
          "output_type": "stream",
          "name": "stdout",
          "text": [
            "Enter your name: Ihsan\n",
            "Enter your age: 23\n",
            "Enter your sex (0 for female, 1 for male): 1\n",
            "Enter the number of children you have: 0\n",
            "Are you a smoker? (0 for no, 1 for yes): 1\n",
            "The estimated insurance cost for Ihsan is 17122 dollars.\n",
            "To lower your cost, you should consider quitting smoking.\n",
            "Do you want to calculate insurance for another person? (yes/no or cancel to exit): no\n",
            "Thank you for using the insurance calculator!\n"
          ]
        }
      ]
    }
  ]
}