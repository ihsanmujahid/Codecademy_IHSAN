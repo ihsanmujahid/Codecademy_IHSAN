{
  "nbformat": 4,
  "nbformat_minor": 0,
  "metadata": {
    "colab": {
      "provenance": [],
      "authorship_tag": "ABX9TyO310T0cUoNT3HT2BmmUZ6C",
      "include_colab_link": true
    },
    "kernelspec": {
      "name": "python3",
      "display_name": "Python 3"
    },
    "language_info": {
      "name": "python"
    }
  },
  "cells": [
    {
      "cell_type": "markdown",
      "metadata": {
        "id": "view-in-github",
        "colab_type": "text"
      },
      "source": [
        "<a href=\"https://colab.research.google.com/github/ihsanmujahid/Codecademy_IHSAN/blob/Medical-Insurance/Medical_Insurance_(Strings).ipynb\" target=\"_parent\"><img src=\"https://colab.research.google.com/assets/colab-badge.svg\" alt=\"Open In Colab\"/></a>"
      ]
    },
    {
      "cell_type": "code",
      "execution_count": 1,
      "metadata": {
        "colab": {
          "base_uri": "https://localhost:8080/"
        },
        "id": "kdBD0hO7MCSo",
        "outputId": "382e8b7c-bb17-40c3-d2e4-d49994e07b66"
      },
      "outputs": [
        {
          "output_type": "stream",
          "name": "stdout",
          "text": [
            "There are 10 medical records in the data.\n",
            "Names: ['MARINA ALLISON', 'MARKUS VALDEZ', 'CONNIE BALLARD', 'DARNELL WEBER', 'SYLVIE CHARLES', 'VINAY PADILLA', 'MEREDITH SANTIAGO', 'ANDRE MCCARTY', 'LORENA HODSON', 'ISAAC VU']\n",
            "Ages: ['27', '30', '43', '35', '22', '24', '51', '19', '65', '34']\n",
            "BMI: ['31.1', '22.4', '25.3', '20.6', '22.1', '26.9', '29.3', '22.7', '33.1', '24.8']\n",
            "Insurance Costs: ['$7010.0', '$4050.0', '$12060.0', '$7500.0', '$3022.0', '$4620.0', '$16330.0', '$2900.0', '$19370.0', '$7045.0']\n",
            "Average BMI: 25.830000000000002\n",
            "Average Insurance Cost: $8390.7\n",
            "MARINA ALLISON is 27 years old with a BMI of 31.1 and an insurance cost of $$7010.0.\n",
            "MARKUS VALDEZ is 30 years old with a BMI of 22.4 and an insurance cost of $$4050.0.\n",
            "CONNIE BALLARD is 43 years old with a BMI of 25.3 and an insurance cost of $$12060.0.\n",
            "DARNELL WEBER is 35 years old with a BMI of 20.6 and an insurance cost of $$7500.0.\n",
            "SYLVIE CHARLES is 22 years old with a BMI of 22.1 and an insurance cost of $$3022.0.\n",
            "VINAY PADILLA is 24 years old with a BMI of 26.9 and an insurance cost of $$4620.0.\n",
            "MEREDITH SANTIAGO is 51 years old with a BMI of 29.3 and an insurance cost of $$16330.0.\n",
            "ANDRE MCCARTY is 19 years old with a BMI of 22.7 and an insurance cost of $$2900.0.\n",
            "LORENA HODSON is 65 years old with a BMI of 33.1 and an insurance cost of $$19370.0.\n",
            "ISAAC VU is 34 years old with a BMI of 24.8 and an insurance cost of $$7045.0.\n"
          ]
        }
      ],
      "source": [
        "medical_data = \"\"\"Marina Allison   ,27   ,   31.1 , \n",
        "#7010.0   ;Markus Valdez   ,   30, \n",
        "22.4,   #4050.0 ;Connie Ballard ,43 \n",
        ",   25.3 , #12060.0 ;Darnell Weber   \n",
        ",   35   , 20.6   , #7500.0;\n",
        "Sylvie Charles   ,22, 22.1 \n",
        ",#3022.0   ;   Vinay Padilla,24,   \n",
        "26.9 ,#4620.0 ;Meredith Santiago, 51   , \n",
        "29.3 ,#16330.0;   Andre Mccarty, \n",
        "19,22.7 , #2900.0 ; \n",
        "Lorena Hodson ,65, 33.1 , #19370.0; \n",
        "Isaac Vu ,34, 24.8,   #7045.0\"\"\"\n",
        "# First we clean the data\n",
        "# Replace \"#\" with \"$\"\n",
        "updated_medical_data = medical_data.replace(\"#\", \"$\")\n",
        "\n",
        "# Count the number of medical records\n",
        "num_records = updated_medical_data.count(\"$\")\n",
        "print(\"There are \" + str(num_records) + \" medical records in the data.\")\n",
        "\n",
        "# Split the data into individual records\n",
        "medical_data_split = updated_medical_data.split(\";\")\n",
        "\n",
        "# Clean the records by removing leading/trailing spaces and splitting by comma\n",
        "medical_records_clean = []\n",
        "for record in medical_data_split:\n",
        "    record_clean = [item.strip() for item in record.split(',')]\n",
        "    medical_records_clean.append(record_clean)\n",
        "\n",
        "# Convert names to uppercase\n",
        "for record in medical_records_clean:\n",
        "    record[0] = record[0].upper()\n",
        "\n",
        "# Extract information from records into separate lists\n",
        "names = []\n",
        "ages = []\n",
        "bmis = []\n",
        "insurance_costs = []\n",
        "\n",
        "for record in medical_records_clean:\n",
        "    names.append(record[0])\n",
        "    ages.append(record[1])\n",
        "    bmis.append(record[2])\n",
        "    insurance_costs.append(record[3])\n",
        "\n",
        "print(\"Names: \" + str(names))\n",
        "print(\"Ages: \" + str(ages))\n",
        "print(\"BMI: \" + str(bmis))\n",
        "print(\"Insurance Costs: \" + str(insurance_costs))\n",
        "\n",
        "# Calculate average BMI\n",
        "total_bmi = sum(float(bmi) for bmi in bmis)\n",
        "average_bmi = total_bmi / len(bmis)\n",
        "print(\"Average BMI: \" + str(average_bmi))\n",
        "\n",
        "#Calculate average insurance cost\n",
        "insurance_costs_clean = [cost.replace('$', '') for cost in insurance_costs]\n",
        "\n",
        "total_insurance_cost = sum(float(cost) for cost in insurance_costs_clean)\n",
        "average_insurance_cost = total_insurance_cost / len(insurance_costs_clean)\n",
        "\n",
        "print(\"Average Insurance Cost: $\" + str(average_insurance_cost))\n",
        "\n",
        "# Output strings for each individual\n",
        "for i in range(len(names)):\n",
        "    output = names[i] + \" is \" + ages[i] + \" years old with a BMI of \" + bmis[i] + \" and an insurance cost of $\" + insurance_costs[i] + \".\"\n",
        "    print(output)"
      ]
    }
  ]
}