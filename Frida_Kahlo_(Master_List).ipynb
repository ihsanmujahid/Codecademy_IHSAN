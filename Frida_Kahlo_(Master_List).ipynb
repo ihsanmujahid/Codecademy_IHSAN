{
  "nbformat": 4,
  "nbformat_minor": 0,
  "metadata": {
    "colab": {
      "provenance": [],
      "authorship_tag": "ABX9TyObkzqqypUBvQJJeuPYcbgc",
      "include_colab_link": true
    },
    "kernelspec": {
      "name": "python3",
      "display_name": "Python 3"
    },
    "language_info": {
      "name": "python"
    }
  },
  "cells": [
    {
      "cell_type": "markdown",
      "metadata": {
        "id": "view-in-github",
        "colab_type": "text"
      },
      "source": [
        "<a href=\"https://colab.research.google.com/github/ihsanmujahid/Codecademy_IHSAN/blob/Frida-Kahlo/Frida_Kahlo_(Master_List).ipynb\" target=\"_parent\"><img src=\"https://colab.research.google.com/assets/colab-badge.svg\" alt=\"Open In Colab\"/></a>"
      ]
    },
    {
      "cell_type": "code",
      "execution_count": 1,
      "metadata": {
        "colab": {
          "base_uri": "https://localhost:8080/"
        },
        "id": "t6xIrMgDOjFN",
        "outputId": "c1a4106e-fbce-404a-ba8c-0ffe27c1dcb2"
      },
      "outputs": [
        {
          "output_type": "stream",
          "name": "stdout",
          "text": [
            "[('The Two Fridas', 1939), ('My Dress Hangs', 1933), ('Tree of Hope', 1946), ('Self Portrait With Monkeys', 1940)]\n",
            "[('The Two Fridas', 1939), ('My Dress Hangs', 1933), ('Tree of Hope', 1946), ('Self Portrait With Monkeys', 1940), ('The Broken Column', 1944), ('The Wounded Deer', 1946), ('Me and My Doll', 1937)]\n",
            "The Number of Paintings: 7\n",
            "Audio tour number: [1, 2, 3, 4, 5, 6, 7]\n",
            "Master List [(1, ('The Two Fridas', 1939)), (2, ('My Dress Hangs', 1933)), (3, ('Tree of Hope', 1946)), (4, ('Self Portrait With Monkeys', 1940)), (5, ('The Broken Column', 1944)), (6, ('The Wounded Deer', 1946)), (7, ('Me and My Doll', 1937))]\n"
          ]
        }
      ],
      "source": [
        "paintings = ['The Two Fridas', 'My Dress Hangs', 'Tree of Hope', 'Self Portrait With Monkeys']\n",
        "dates = [1939,1933,1946,1940]\n",
        "\n",
        "paintings = list(zip(paintings,dates))\n",
        "print(paintings)\n",
        "\n",
        "paintings.append(('The Broken Column', 1944))\n",
        "paintings.append(('The Wounded Deer', 1946))\n",
        "paintings.append(('Me and My Doll', 1937))\n",
        "print(paintings)\n",
        "\n",
        "num_paintings = len(paintings)\n",
        "print(\"The Number of Paintings:\", num_paintings)\n",
        "\n",
        "audio_tour_num = list(range(1, num_paintings+1))\n",
        "print(\"Audio tour number:\", audio_tour_num)\n",
        "\n",
        "master_list = list(zip(audio_tour_num,paintings))\n",
        "print(\"Master List\", master_list)"
      ]
    }
  ]
}